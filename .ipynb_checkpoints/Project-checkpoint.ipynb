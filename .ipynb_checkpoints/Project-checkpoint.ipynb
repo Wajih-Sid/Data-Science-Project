{
 "cells": [
  {
   "cell_type": "code",
   "execution_count": 4,
   "metadata": {},
   "outputs": [
    {
     "name": "stdout",
     "output_type": "stream",
     "text": [
      "               Age    DailyRate  DistanceFromHome    Education  EmployeeCount  \\\n",
      "count  1470.000000  1470.000000       1470.000000  1470.000000         1470.0   \n",
      "mean     36.923810   802.485714          9.192517     2.912925            1.0   \n",
      "std       9.135373   403.509100          8.106864     1.024165            0.0   \n",
      "min      18.000000   102.000000          1.000000     1.000000            1.0   \n",
      "25%      30.000000   465.000000          2.000000     2.000000            1.0   \n",
      "50%      36.000000   802.000000          7.000000     3.000000            1.0   \n",
      "75%      43.000000  1157.000000         14.000000     4.000000            1.0   \n",
      "max      60.000000  1499.000000         29.000000     5.000000            1.0   \n",
      "\n",
      "       EmployeeNumber  EnvironmentSatisfaction   HourlyRate  JobInvolvement  \\\n",
      "count     1470.000000              1470.000000  1470.000000     1470.000000   \n",
      "mean      1024.865306                 2.721769    65.891156        2.729932   \n",
      "std        602.024335                 1.093082    20.329428        0.711561   \n",
      "min          1.000000                 1.000000    30.000000        1.000000   \n",
      "25%        491.250000                 2.000000    48.000000        2.000000   \n",
      "50%       1020.500000                 3.000000    66.000000        3.000000   \n",
      "75%       1555.750000                 4.000000    83.750000        3.000000   \n",
      "max       2068.000000                 4.000000   100.000000        4.000000   \n",
      "\n",
      "          JobLevel          ...           RelationshipSatisfaction  \\\n",
      "count  1470.000000          ...                        1470.000000   \n",
      "mean      2.063946          ...                           2.712245   \n",
      "std       1.106940          ...                           1.081209   \n",
      "min       1.000000          ...                           1.000000   \n",
      "25%       1.000000          ...                           2.000000   \n",
      "50%       2.000000          ...                           3.000000   \n",
      "75%       3.000000          ...                           4.000000   \n",
      "max       5.000000          ...                           4.000000   \n",
      "\n",
      "       StandardHours  StockOptionLevel  TotalWorkingYears  \\\n",
      "count         1470.0       1470.000000        1470.000000   \n",
      "mean            80.0          0.793878          11.279592   \n",
      "std              0.0          0.852077           7.780782   \n",
      "min             80.0          0.000000           0.000000   \n",
      "25%             80.0          0.000000           6.000000   \n",
      "50%             80.0          1.000000          10.000000   \n",
      "75%             80.0          1.000000          15.000000   \n",
      "max             80.0          3.000000          40.000000   \n",
      "\n",
      "       TrainingTimesLastYear  WorkLifeBalance  YearsAtCompany  \\\n",
      "count            1470.000000      1470.000000     1470.000000   \n",
      "mean                2.799320         2.761224        7.008163   \n",
      "std                 1.289271         0.706476        6.126525   \n",
      "min                 0.000000         1.000000        0.000000   \n",
      "25%                 2.000000         2.000000        3.000000   \n",
      "50%                 3.000000         3.000000        5.000000   \n",
      "75%                 3.000000         3.000000        9.000000   \n",
      "max                 6.000000         4.000000       40.000000   \n",
      "\n",
      "       YearsInCurrentRole  YearsSinceLastPromotion  YearsWithCurrManager  \n",
      "count         1470.000000              1470.000000           1470.000000  \n",
      "mean             4.229252                 2.187755              4.123129  \n",
      "std              3.623137                 3.222430              3.568136  \n",
      "min              0.000000                 0.000000              0.000000  \n",
      "25%              2.000000                 0.000000              2.000000  \n",
      "50%              3.000000                 1.000000              3.000000  \n",
      "75%              7.000000                 3.000000              7.000000  \n",
      "max             18.000000                15.000000             17.000000  \n",
      "\n",
      "[8 rows x 26 columns]\n"
     ]
    }
   ],
   "source": [
    "import pandas as pd\n",
    "import matplotlib.pyplot as plt\n",
    "import seaborn as sns\n",
    "\n",
    "import os\n",
    "\n",
    "basepath = \"/home/wajih/DataScience/Data-Science-Project\"\n",
    "\n",
    "ibm_data = pd.read_csv(basepath + \"/ibm.csv\")\n",
    "xyz_data = pd.read_csv(basepath + \"/organization.csv\")\n",
    "\n",
    "print ibm_data.describe()"
   ]
  }
 ],
 "metadata": {
  "kernelspec": {
   "display_name": "Python 2",
   "language": "python",
   "name": "python2"
  },
  "language_info": {
   "codemirror_mode": {
    "name": "ipython",
    "version": 2
   },
   "file_extension": ".py",
   "mimetype": "text/x-python",
   "name": "python",
   "nbconvert_exporter": "python",
   "pygments_lexer": "ipython2",
   "version": "2.7.14"
  }
 },
 "nbformat": 4,
 "nbformat_minor": 2
}
